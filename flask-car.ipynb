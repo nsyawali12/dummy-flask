{
 "cells": [
  {
   "cell_type": "code",
   "execution_count": 1,
   "source": [
    "from tensorflow.keras.models import load_model\n",
    "from flask import Flask, request, jsonify\n",
    "import os\n",
    "import numpy as np\n",
    "import uuid\n",
    "app = Flask(__name__)"
   ],
   "outputs": [],
   "metadata": {}
  },
  {
   "cell_type": "code",
   "execution_count": 2,
   "metadata": {},
   "outputs": [],
   "source": [
    "Expected = {\n",
    "\"cylinders\":{\"min\":3, \"max\":8},\n",
    "\"displacement\":{\"min\":68.0, \"max\":455.0},\n",
    "\"horsepower\":{\"min\":46.0, \"max\":230.0},\n",
    "\"weight\":{\"min\":1613, \"max\":5140},\n",
    "\"acceleration\":{\"min\":8.0, \"max\":24.8},\n",
    "\"year\":{\"min\":70, \"max\":82},\n",
    "\"origin\":{\"min\":1, \"max\":3}\n",
    "}"
   ]
  },
  {
   "cell_type": "code",
   "execution_count": 3,
   "metadata": {},
   "outputs": [],
   "source": [
    "os.chdir(r'D:\\online course\\learn_flask\\dummy-flask\\flaskdata')\n",
    "\n",
    "model = load_model(os.path.join(os.getcwd(), \"mpg_model.h5\"))"
   ]
  },
  {
   "cell_type": "code",
   "execution_count": 4,
   "metadata": {},
   "outputs": [
    {
     "output_type": "stream",
     "name": "stdout",
     "text": [
      "Model: \"sequential\"\n_________________________________________________________________\nLayer (type)                 Output Shape              Param #   \n=================================================================\ndense (Dense)                (None, 25)                200       \n_________________________________________________________________\ndense_1 (Dense)              (None, 10)                260       \n_________________________________________________________________\ndense_2 (Dense)              (None, 1)                 11        \n=================================================================\nTotal params: 471\nTrainable params: 471\nNon-trainable params: 0\n_________________________________________________________________\n"
     ]
    }
   ],
   "source": [
    "model.summary()"
   ]
  },
  {
   "cell_type": "code",
   "execution_count": null,
   "metadata": {},
   "outputs": [],
   "source": []
  }
 ],
 "metadata": {
  "orig_nbformat": 4,
  "language_info": {
   "name": "python",
   "version": "3.7.11"
  },
  "kernelspec": {
   "name": "python3",
   "display_name": "Python 3.7.11 64-bit ('DeepLearning': conda)"
  },
  "interpreter": {
   "hash": "2fc2f960cdb7e52bf163ff6aba8b6b4a40930dd7b7543dbbb3ef789c78b540d7"
  }
 },
 "nbformat": 4,
 "nbformat_minor": 2
}