{
    "cells": [
        {
            "cell_type": "code",
            "execution_count": 1,
            "source": [
                "import os\r\n",
                "from tensorflow.keras.models import load_model\r\n",
                "import numpy as p\r\n"
            ],
            "outputs": [],
            "metadata": {}
        },
        {
            "cell_type": "code",
            "execution_count": 2,
            "metadata": {},
            "outputs": [],
            "source": [
                "os.chdir(r'D:\\online course\\learn_flask\\dummy-flask\\flaskdata')\n",
                "\n",
                "model = load_model(os.path.join(os.getcwd(), \"mpg_model.h5\"))"
            ]
        },
        {
            "cell_type": "code",
            "execution_count": 4,
            "metadata": {},
            "outputs": [
                {
                    "output_type": "stream",
                    "name": "stdout",
                    "text": [
                        "Model: \"sequential\"\n_________________________________________________________________\nLayer (type)                 Output Shape              Param #   \n=================================================================\ndense (Dense)                (None, 25)                200       \n_________________________________________________________________\ndense_1 (Dense)              (None, 10)                260       \n_________________________________________________________________\ndense_2 (Dense)              (None, 1)                 11        \n=================================================================\nTotal params: 471\nTrainable params: 471\nNon-trainable params: 0\n_________________________________________________________________\n"
                    ]
                }
            ],
            "source": [
                "model.summary()"
            ]
        },
        {
            "cell_type": "code",
            "execution_count": 6,
            "metadata": {},
            "outputs": [
                {
                    "output_type": "execute_result",
                    "data": {
                        "text/plain": [
                            "array([[0., 0., 0., 0., 0., 0., 0.]])"
                        ]
                    },
                    "metadata": {},
                    "execution_count": 6
                }
            ],
            "source": [
                "x = np.zeros((1, 7))\n",
                "x"
            ]
        },
        {
            "cell_type": "code",
            "execution_count": 7,
            "metadata": {},
            "outputs": [
                {
                    "output_type": "execute_result",
                    "data": {
                        "text/plain": [
                            "array([[8.0e+00, 4.0e+02, 8.0e+01, 2.0e+03, 1.9e+01, 7.2e+01, 1.0e+00]])"
                        ]
                    },
                    "metadata": {},
                    "execution_count": 7
                }
            ],
            "source": [
                "x[0,0] = 8\n",
                "x[0,1] = 400\n",
                "x[0,2] = 80\n",
                "x[0,3] = 2000\n",
                "x[0,4] = 19\n",
                "x[0,5] = 72\n",
                "x[0,6] = 1\n",
                "x"
            ]
        },
        {
            "cell_type": "code",
            "execution_count": 8,
            "metadata": {},
            "outputs": [
                {
                    "output_type": "execute_result",
                    "data": {
                        "text/plain": [
                            "21.999515533447266"
                        ]
                    },
                    "metadata": {},
                    "execution_count": 8
                }
            ],
            "source": [
                "prediction = model.predict(x)\n",
                "float(prediction[0])"
            ]
        }
    ],
    "metadata": {
        "orig_nbformat": 4,
        "language_info": {
            "name": "python",
            "version": "3.7.11",
            "mimetype": "text/x-python",
            "codemirror_mode": {
                "name": "ipython",
                "version": 3
            },
            "pygments_lexer": "ipython3",
            "nbconvert_exporter": "python",
            "file_extension": ".py"
        },
        "kernelspec": {
            "name": "python3",
            "display_name": "Python 3.7.11 64-bit ('DeepLearning': conda)"
        },
        "interpreter": {
            "hash": "2fc2f960cdb7e52bf163ff6aba8b6b4a40930dd7b7543dbbb3ef789c78b540d7"
        }
    },
    "nbformat": 4,
    "nbformat_minor": 2
}