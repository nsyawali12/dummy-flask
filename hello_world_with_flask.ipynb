{
  "nbformat": 4,
  "nbformat_minor": 0,
  "metadata": {
    "kernelspec": {
      "display_name": "Python 3",
      "language": "python",
      "name": "python3"
    },
    "language_info": {
      "codemirror_mode": {
        "name": "ipython",
        "version": 3
      },
      "file_extension": ".py",
      "mimetype": "text/x-python",
      "name": "python",
      "nbconvert_exporter": "python",
      "pygments_lexer": "ipython3",
      "version": "3.7.4"
    },
    "colab": {
      "name": "hello_world_with_flask.ipynb",
      "provenance": [],
      "collapsed_sections": []
    }
  },
  "cells": [
    {
      "cell_type": "code",
      "metadata": {
        "colab": {
          "base_uri": "https://localhost:8080/"
        },
        "id": "sju9B8LHwlNL",
        "outputId": "ede93a0d-adb0-4874-bed5-8efe76cb43bb"
      },
      "source": [
        "!pip install flask-ngrok"
      ],
      "execution_count": 2,
      "outputs": [
        {
          "output_type": "stream",
          "text": [
            "Collecting flask-ngrok\n",
            "  Downloading flask_ngrok-0.0.25-py3-none-any.whl (3.1 kB)\n",
            "Requirement already satisfied: requests in /usr/local/lib/python3.7/dist-packages (from flask-ngrok) (2.23.0)\n",
            "Requirement already satisfied: Flask>=0.8 in /usr/local/lib/python3.7/dist-packages (from flask-ngrok) (1.1.4)\n",
            "Requirement already satisfied: Werkzeug<2.0,>=0.15 in /usr/local/lib/python3.7/dist-packages (from Flask>=0.8->flask-ngrok) (1.0.1)\n",
            "Requirement already satisfied: click<8.0,>=5.1 in /usr/local/lib/python3.7/dist-packages (from Flask>=0.8->flask-ngrok) (7.1.2)\n",
            "Requirement already satisfied: itsdangerous<2.0,>=0.24 in /usr/local/lib/python3.7/dist-packages (from Flask>=0.8->flask-ngrok) (1.1.0)\n",
            "Requirement already satisfied: Jinja2<3.0,>=2.10.1 in /usr/local/lib/python3.7/dist-packages (from Flask>=0.8->flask-ngrok) (2.11.3)\n",
            "Requirement already satisfied: MarkupSafe>=0.23 in /usr/local/lib/python3.7/dist-packages (from Jinja2<3.0,>=2.10.1->Flask>=0.8->flask-ngrok) (2.0.1)\n",
            "Requirement already satisfied: urllib3!=1.25.0,!=1.25.1,<1.26,>=1.21.1 in /usr/local/lib/python3.7/dist-packages (from requests->flask-ngrok) (1.24.3)\n",
            "Requirement already satisfied: idna<3,>=2.5 in /usr/local/lib/python3.7/dist-packages (from requests->flask-ngrok) (2.10)\n",
            "Requirement already satisfied: chardet<4,>=3.0.2 in /usr/local/lib/python3.7/dist-packages (from requests->flask-ngrok) (3.0.4)\n",
            "Requirement already satisfied: certifi>=2017.4.17 in /usr/local/lib/python3.7/dist-packages (from requests->flask-ngrok) (2021.5.30)\n",
            "Installing collected packages: flask-ngrok\n",
            "Successfully installed flask-ngrok-0.0.25\n"
          ],
          "name": "stdout"
        }
      ]
    },
    {
      "cell_type": "code",
      "metadata": {
        "id": "_BRjUxywwNrw"
      },
      "source": [
        "from werkzeug.wrappers import Request, Response\n",
        "from flask import Flask\n",
        "from flask_ngrok import run_with_ngrok"
      ],
      "execution_count": 5,
      "outputs": []
    },
    {
      "cell_type": "code",
      "metadata": {
        "id": "izVcQ0UVwNr1"
      },
      "source": [
        "### iF local using this one ##\n",
        "# app = Flask(__name__)\n",
        "\n",
        "\n",
        "# @app.route(\"/\")\n",
        "# def hello():\n",
        "#     return \"Hello World\"\n",
        "\n",
        "# if __name__ == \"__main__\":\n",
        "#     # run using werkzeug when using local host\n",
        "#     # from werkzeug.serving import run_simple\n",
        "#     # run_simple('localhost', 9000, app)"
      ],
      "execution_count": 9,
      "outputs": []
    },
    {
      "cell_type": "code",
      "metadata": {
        "colab": {
          "base_uri": "https://localhost:8080/"
        },
        "id": "4X8x5RO8ye8e",
        "outputId": "9b8e6dbb-d15e-4451-caa2-5809b01055a7"
      },
      "source": [
        "## IF Using Google colab u should use this one\n",
        "app = Flask(__name__)\n",
        "run_with_ngrok(app)\n",
        "\n",
        "@app.route(\"/\")\n",
        "def hello():\n",
        "    return \"Hello World\"\n",
        "\n",
        "app.run()"
      ],
      "execution_count": 10,
      "outputs": [
        {
          "output_type": "stream",
          "text": [
            " * Serving Flask app \"__main__\" (lazy loading)\n",
            " * Environment: production\n",
            "\u001b[31m   WARNING: This is a development server. Do not use it in a production deployment.\u001b[0m\n",
            "\u001b[2m   Use a production WSGI server instead.\u001b[0m\n",
            " * Debug mode: off\n"
          ],
          "name": "stdout"
        },
        {
          "output_type": "stream",
          "text": [
            " * Running on http://127.0.0.1:5000/ (Press CTRL+C to quit)\n"
          ],
          "name": "stderr"
        },
        {
          "output_type": "stream",
          "text": [
            " * Running on http://1caa-35-231-174-25.ngrok.io\n",
            " * Traffic stats available on http://127.0.0.1:4040\n"
          ],
          "name": "stdout"
        },
        {
          "output_type": "stream",
          "text": [
            "127.0.0.1 - - [24/Aug/2021 10:54:05] \"\u001b[37mGET / HTTP/1.1\u001b[0m\" 200 -\n",
            "127.0.0.1 - - [24/Aug/2021 10:54:06] \"\u001b[33mGET /favicon.ico HTTP/1.1\u001b[0m\" 404 -\n"
          ],
          "name": "stderr"
        }
      ]
    },
    {
      "cell_type": "code",
      "metadata": {
        "colab": {
          "resources": {
            "http://localhost:8080/nbextensions/google.colab/files.js": {
              "data": "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",
              "ok": true,
              "headers": [
                [
                  "content-type",
                  "application/javascript"
                ]
              ],
              "status": 200,
              "status_text": ""
            }
          },
          "base_uri": "https://localhost:8080/",
          "height": 73
        },
        "id": "Y8E80ivWzoTs",
        "outputId": "a45e8998-fea1-49e7-a705-229d79425dc9"
      },
      "source": [
        "from google.colab import files\n",
        "\n",
        "uploaded = files.upload()"
      ],
      "execution_count": 11,
      "outputs": [
        {
          "output_type": "display_data",
          "data": {
            "text/html": [
              "\n",
              "     <input type=\"file\" id=\"files-4f58f024-c501-4ddb-9595-33cd46150494\" name=\"files[]\" multiple disabled\n",
              "        style=\"border:none\" />\n",
              "     <output id=\"result-4f58f024-c501-4ddb-9595-33cd46150494\">\n",
              "      Upload widget is only available when the cell has been executed in the\n",
              "      current browser session. Please rerun this cell to enable.\n",
              "      </output>\n",
              "      <script src=\"/nbextensions/google.colab/files.js\"></script> "
            ],
            "text/plain": [
              "<IPython.core.display.HTML object>"
            ]
          },
          "metadata": {}
        },
        {
          "output_type": "stream",
          "text": [
            "Saving auto-mpg.csv to auto-mpg.csv\n"
          ],
          "name": "stdout"
        }
      ]
    },
    {
      "cell_type": "code",
      "metadata": {
        "id": "dIk3ouvW0D8N"
      },
      "source": [
        "import tensorflow\n",
        "import keras\n",
        "\n",
        "from tensorflow.keras.models import Sequential\n",
        "from tensorflow.keras.layers import Dense, Activation\n",
        "from sklearn.model_selection import train_test_split\n",
        "from tensorflow.keras.callbacks import EarlyStopping\n",
        "import pandas as pd\n",
        "import io\n",
        "import os\n",
        "import requests\n",
        "import numpy as np\n",
        "from sklearn import metrics"
      ],
      "execution_count": 18,
      "outputs": []
    },
    {
      "cell_type": "code",
      "metadata": {
        "colab": {
          "base_uri": "https://localhost:8080/",
          "height": 338
        },
        "id": "xOoUnH3KwNr4",
        "outputId": "55a68850-2066-4d2b-d6da-1633f6ff8d8e"
      },
      "source": [
        "# df = pd.read_csv(r'D:\\online course\\learn_flask\\dummy-flask\\flaskdata\\auto-mpg.csv', na_values=['NA','?']) if running as a local\n",
        "df = pd.read_csv(r'auto-mpg.csv', na_values=['NA', '?'])\n",
        "df.head()"
      ],
      "execution_count": 19,
      "outputs": [
        {
          "output_type": "execute_result",
          "data": {
            "text/html": [
              "<div>\n",
              "<style scoped>\n",
              "    .dataframe tbody tr th:only-of-type {\n",
              "        vertical-align: middle;\n",
              "    }\n",
              "\n",
              "    .dataframe tbody tr th {\n",
              "        vertical-align: top;\n",
              "    }\n",
              "\n",
              "    .dataframe thead th {\n",
              "        text-align: right;\n",
              "    }\n",
              "</style>\n",
              "<table border=\"1\" class=\"dataframe\">\n",
              "  <thead>\n",
              "    <tr style=\"text-align: right;\">\n",
              "      <th></th>\n",
              "      <th>mpg</th>\n",
              "      <th>cylinders</th>\n",
              "      <th>displacement</th>\n",
              "      <th>horsepower</th>\n",
              "      <th>weight</th>\n",
              "      <th>acceleration</th>\n",
              "      <th>year</th>\n",
              "      <th>origin</th>\n",
              "      <th>name</th>\n",
              "    </tr>\n",
              "  </thead>\n",
              "  <tbody>\n",
              "    <tr>\n",
              "      <th>0</th>\n",
              "      <td>18.0</td>\n",
              "      <td>8</td>\n",
              "      <td>307.0</td>\n",
              "      <td>130.0</td>\n",
              "      <td>3504</td>\n",
              "      <td>12.0</td>\n",
              "      <td>70</td>\n",
              "      <td>1</td>\n",
              "      <td>chevrolet chevelle malibu</td>\n",
              "    </tr>\n",
              "    <tr>\n",
              "      <th>1</th>\n",
              "      <td>15.0</td>\n",
              "      <td>8</td>\n",
              "      <td>350.0</td>\n",
              "      <td>165.0</td>\n",
              "      <td>3693</td>\n",
              "      <td>11.5</td>\n",
              "      <td>70</td>\n",
              "      <td>1</td>\n",
              "      <td>buick skylark 320</td>\n",
              "    </tr>\n",
              "    <tr>\n",
              "      <th>2</th>\n",
              "      <td>18.0</td>\n",
              "      <td>8</td>\n",
              "      <td>318.0</td>\n",
              "      <td>150.0</td>\n",
              "      <td>3436</td>\n",
              "      <td>11.0</td>\n",
              "      <td>70</td>\n",
              "      <td>1</td>\n",
              "      <td>plymouth satellite</td>\n",
              "    </tr>\n",
              "    <tr>\n",
              "      <th>3</th>\n",
              "      <td>16.0</td>\n",
              "      <td>8</td>\n",
              "      <td>304.0</td>\n",
              "      <td>150.0</td>\n",
              "      <td>3433</td>\n",
              "      <td>12.0</td>\n",
              "      <td>70</td>\n",
              "      <td>1</td>\n",
              "      <td>amc rebel sst</td>\n",
              "    </tr>\n",
              "    <tr>\n",
              "      <th>4</th>\n",
              "      <td>17.0</td>\n",
              "      <td>8</td>\n",
              "      <td>302.0</td>\n",
              "      <td>140.0</td>\n",
              "      <td>3449</td>\n",
              "      <td>10.5</td>\n",
              "      <td>70</td>\n",
              "      <td>1</td>\n",
              "      <td>ford torino</td>\n",
              "    </tr>\n",
              "  </tbody>\n",
              "</table>\n",
              "</div>"
            ],
            "text/plain": [
              "    mpg  cylinders  displacement  ...  year  origin                       name\n",
              "0  18.0          8         307.0  ...    70       1  chevrolet chevelle malibu\n",
              "1  15.0          8         350.0  ...    70       1          buick skylark 320\n",
              "2  18.0          8         318.0  ...    70       1         plymouth satellite\n",
              "3  16.0          8         304.0  ...    70       1              amc rebel sst\n",
              "4  17.0          8         302.0  ...    70       1                ford torino\n",
              "\n",
              "[5 rows x 9 columns]"
            ]
          },
          "metadata": {},
          "execution_count": 19
        }
      ]
    },
    {
      "cell_type": "code",
      "metadata": {
        "colab": {
          "base_uri": "https://localhost:8080/"
        },
        "id": "apBLxyw4wNr5",
        "outputId": "658a9999-2b94-4fe2-b578-728987d5bbe9"
      },
      "source": [
        "df.isnull().sum()"
      ],
      "execution_count": 20,
      "outputs": [
        {
          "output_type": "execute_result",
          "data": {
            "text/plain": [
              "mpg             0\n",
              "cylinders       0\n",
              "displacement    0\n",
              "horsepower      6\n",
              "weight          0\n",
              "acceleration    0\n",
              "year            0\n",
              "origin          0\n",
              "name            0\n",
              "dtype: int64"
            ]
          },
          "metadata": {},
          "execution_count": 20
        }
      ]
    },
    {
      "cell_type": "code",
      "metadata": {
        "id": "o5sLyjop56t2"
      },
      "source": [
        "df['horsepower'] = df['horsepower'].fillna(df['horsepower'].median())"
      ],
      "execution_count": 21,
      "outputs": []
    },
    {
      "cell_type": "code",
      "metadata": {
        "colab": {
          "base_uri": "https://localhost:8080/"
        },
        "id": "J0LjUFV-6Enh",
        "outputId": "c2d11d32-3fad-4aeb-9516-0793d9ad91ae"
      },
      "source": [
        "df.isnull().sum()"
      ],
      "execution_count": 22,
      "outputs": [
        {
          "output_type": "execute_result",
          "data": {
            "text/plain": [
              "mpg             0\n",
              "cylinders       0\n",
              "displacement    0\n",
              "horsepower      0\n",
              "weight          0\n",
              "acceleration    0\n",
              "year            0\n",
              "origin          0\n",
              "name            0\n",
              "dtype: int64"
            ]
          },
          "metadata": {},
          "execution_count": 22
        }
      ]
    },
    {
      "cell_type": "code",
      "metadata": {
        "id": "jmuD2QX86KyC"
      },
      "source": [
        "#df_x = x\n",
        "#df_y = y\n",
        "x = df[['cylinders', 'displacement', 'horsepower', 'weight', 'acceleration', 'year', 'origin']].values\n",
        "y = df['mpg'].values"
      ],
      "execution_count": 33,
      "outputs": []
    },
    {
      "cell_type": "code",
      "metadata": {
        "id": "2EEQopCo69Eh"
      },
      "source": [
        "x_train, x_test, y_train, y_test = train_test_split(x, y, test_size=0.25, random_state=45)"
      ],
      "execution_count": 34,
      "outputs": []
    },
    {
      "cell_type": "code",
      "metadata": {
        "colab": {
          "base_uri": "https://localhost:8080/"
        },
        "id": "9r7aEM0G7HhC",
        "outputId": "f1bbbb0d-edfe-483b-f269-e4e569c32f37"
      },
      "source": [
        "  x_train.shape"
      ],
      "execution_count": 35,
      "outputs": [
        {
          "output_type": "execute_result",
          "data": {
            "text/plain": [
              "(298, 7)"
            ]
          },
          "metadata": {},
          "execution_count": 35
        }
      ]
    },
    {
      "cell_type": "code",
      "metadata": {
        "colab": {
          "base_uri": "https://localhost:8080/"
        },
        "id": "28voVALRBAta",
        "outputId": "85651ba6-1334-42be-853e-eec7f1fd2024"
      },
      "source": [
        "model = Sequential()\n",
        "model.add(Dense(25, input_dim=x.shape[1], activation='relu'))\n",
        "model.add(Dense(10, activation='relu'))\n",
        "model.add(Dense(1))\n",
        "model.compile(loss='mean_squared_error', optimizer='adam')\n",
        "\n",
        "monitor = EarlyStopping(monitor='val_loss', min_delta=1e-3, patience=5, verbose=1, mode='auto', restore_best_weights=True)\n",
        "model.fit(x_train, y_train, validation_data=(x_test, y_test), callbacks=[monitor], verbose=2, epochs=200)"
      ],
      "execution_count": 36,
      "outputs": [
        {
          "output_type": "stream",
          "text": [
            "Epoch 1/200\n",
            "10/10 - 1s - loss: 224857.1562 - val_loss: 170365.3750\n",
            "Epoch 2/200\n",
            "10/10 - 0s - loss: 134372.9062 - val_loss: 96346.7891\n",
            "Epoch 3/200\n",
            "10/10 - 0s - loss: 73439.8359 - val_loss: 47540.5195\n",
            "Epoch 4/200\n",
            "10/10 - 0s - loss: 34382.4531 - val_loss: 19799.1055\n",
            "Epoch 5/200\n",
            "10/10 - 0s - loss: 13372.9229 - val_loss: 6612.1675\n",
            "Epoch 6/200\n",
            "10/10 - 0s - loss: 4203.1953 - val_loss: 1830.6626\n",
            "Epoch 7/200\n",
            "10/10 - 0s - loss: 1309.4390 - val_loss: 760.7532\n",
            "Epoch 8/200\n",
            "10/10 - 0s - loss: 840.5463 - val_loss: 697.7375\n",
            "Epoch 9/200\n",
            "10/10 - 0s - loss: 808.4737 - val_loss: 685.0165\n",
            "Epoch 10/200\n",
            "10/10 - 0s - loss: 802.4288 - val_loss: 680.0820\n",
            "Epoch 11/200\n",
            "10/10 - 0s - loss: 787.1655 - val_loss: 674.2999\n",
            "Epoch 12/200\n",
            "10/10 - 0s - loss: 786.2265 - val_loss: 666.8018\n",
            "Epoch 13/200\n",
            "10/10 - 0s - loss: 778.1630 - val_loss: 658.7692\n",
            "Epoch 14/200\n",
            "10/10 - 0s - loss: 767.8098 - val_loss: 651.3217\n",
            "Epoch 15/200\n",
            "10/10 - 0s - loss: 760.5588 - val_loss: 643.8398\n",
            "Epoch 16/200\n",
            "10/10 - 0s - loss: 756.5114 - val_loss: 639.8514\n",
            "Epoch 17/200\n",
            "10/10 - 0s - loss: 753.5692 - val_loss: 628.4172\n",
            "Epoch 18/200\n",
            "10/10 - 0s - loss: 744.0446 - val_loss: 620.3226\n",
            "Epoch 19/200\n",
            "10/10 - 0s - loss: 729.4052 - val_loss: 612.6853\n",
            "Epoch 20/200\n",
            "10/10 - 0s - loss: 720.4447 - val_loss: 606.6310\n",
            "Epoch 21/200\n",
            "10/10 - 0s - loss: 710.8862 - val_loss: 595.4263\n",
            "Epoch 22/200\n",
            "10/10 - 0s - loss: 695.0526 - val_loss: 587.2015\n",
            "Epoch 23/200\n",
            "10/10 - 0s - loss: 699.4708 - val_loss: 577.4152\n",
            "Epoch 24/200\n",
            "10/10 - 0s - loss: 714.9038 - val_loss: 568.5646\n",
            "Epoch 25/200\n",
            "10/10 - 0s - loss: 670.4318 - val_loss: 560.0514\n",
            "Epoch 26/200\n",
            "10/10 - 0s - loss: 656.9059 - val_loss: 550.1761\n",
            "Epoch 27/200\n",
            "10/10 - 0s - loss: 641.9437 - val_loss: 540.6860\n",
            "Epoch 28/200\n",
            "10/10 - 0s - loss: 638.1998 - val_loss: 531.1175\n",
            "Epoch 29/200\n",
            "10/10 - 0s - loss: 626.7091 - val_loss: 521.8246\n",
            "Epoch 30/200\n",
            "10/10 - 0s - loss: 624.1408 - val_loss: 520.4908\n",
            "Epoch 31/200\n",
            "10/10 - 0s - loss: 607.7896 - val_loss: 505.7805\n",
            "Epoch 32/200\n",
            "10/10 - 0s - loss: 591.1441 - val_loss: 491.3450\n",
            "Epoch 33/200\n",
            "10/10 - 0s - loss: 579.5479 - val_loss: 478.6971\n",
            "Epoch 34/200\n",
            "10/10 - 0s - loss: 561.0303 - val_loss: 470.0364\n",
            "Epoch 35/200\n",
            "10/10 - 0s - loss: 551.2125 - val_loss: 458.9384\n",
            "Epoch 36/200\n",
            "10/10 - 0s - loss: 561.2281 - val_loss: 470.6314\n",
            "Epoch 37/200\n",
            "10/10 - 0s - loss: 537.6656 - val_loss: 449.9901\n",
            "Epoch 38/200\n",
            "10/10 - 0s - loss: 520.1220 - val_loss: 435.5056\n",
            "Epoch 39/200\n",
            "10/10 - 0s - loss: 502.1936 - val_loss: 412.2943\n",
            "Epoch 40/200\n",
            "10/10 - 0s - loss: 487.2783 - val_loss: 407.1847\n",
            "Epoch 41/200\n",
            "10/10 - 0s - loss: 497.2691 - val_loss: 440.5482\n",
            "Epoch 42/200\n",
            "10/10 - 0s - loss: 514.5632 - val_loss: 446.2627\n",
            "Epoch 43/200\n",
            "10/10 - 0s - loss: 486.6533 - val_loss: 375.4722\n",
            "Epoch 44/200\n",
            "10/10 - 0s - loss: 434.9162 - val_loss: 363.3884\n",
            "Epoch 45/200\n",
            "10/10 - 0s - loss: 425.1692 - val_loss: 344.8058\n",
            "Epoch 46/200\n",
            "10/10 - 0s - loss: 413.6414 - val_loss: 336.2519\n",
            "Epoch 47/200\n",
            "10/10 - 0s - loss: 398.7341 - val_loss: 325.0056\n",
            "Epoch 48/200\n",
            "10/10 - 0s - loss: 387.1759 - val_loss: 308.9775\n",
            "Epoch 49/200\n",
            "10/10 - 0s - loss: 370.2454 - val_loss: 296.8571\n",
            "Epoch 50/200\n",
            "10/10 - 0s - loss: 361.9995 - val_loss: 284.8288\n",
            "Epoch 51/200\n",
            "10/10 - 0s - loss: 349.7035 - val_loss: 286.1571\n",
            "Epoch 52/200\n",
            "10/10 - 0s - loss: 329.8966 - val_loss: 268.9076\n",
            "Epoch 53/200\n",
            "10/10 - 0s - loss: 321.1858 - val_loss: 253.6910\n",
            "Epoch 54/200\n",
            "10/10 - 0s - loss: 307.1035 - val_loss: 239.3964\n",
            "Epoch 55/200\n",
            "10/10 - 0s - loss: 313.1229 - val_loss: 280.9392\n",
            "Epoch 56/200\n",
            "10/10 - 0s - loss: 300.7204 - val_loss: 235.2266\n",
            "Epoch 57/200\n",
            "10/10 - 0s - loss: 271.3960 - val_loss: 217.6205\n",
            "Epoch 58/200\n",
            "10/10 - 0s - loss: 258.8733 - val_loss: 206.5025\n",
            "Epoch 59/200\n",
            "10/10 - 0s - loss: 250.2339 - val_loss: 188.8828\n",
            "Epoch 60/200\n",
            "10/10 - 0s - loss: 233.3362 - val_loss: 179.4119\n",
            "Epoch 61/200\n",
            "10/10 - 0s - loss: 224.0367 - val_loss: 178.1720\n",
            "Epoch 62/200\n",
            "10/10 - 0s - loss: 216.4473 - val_loss: 161.9620\n",
            "Epoch 63/200\n",
            "10/10 - 0s - loss: 202.4075 - val_loss: 163.6846\n",
            "Epoch 64/200\n",
            "10/10 - 0s - loss: 190.7714 - val_loss: 144.7928\n",
            "Epoch 65/200\n",
            "10/10 - 0s - loss: 180.4948 - val_loss: 138.9971\n",
            "Epoch 66/200\n",
            "10/10 - 0s - loss: 176.8603 - val_loss: 129.1199\n",
            "Epoch 67/200\n",
            "10/10 - 0s - loss: 160.8117 - val_loss: 123.2173\n",
            "Epoch 68/200\n",
            "10/10 - 0s - loss: 156.5648 - val_loss: 115.5240\n",
            "Epoch 69/200\n",
            "10/10 - 0s - loss: 147.8091 - val_loss: 113.6332\n",
            "Epoch 70/200\n",
            "10/10 - 0s - loss: 143.2187 - val_loss: 106.1547\n",
            "Epoch 71/200\n",
            "10/10 - 0s - loss: 138.9474 - val_loss: 110.1978\n",
            "Epoch 72/200\n",
            "10/10 - 0s - loss: 142.8060 - val_loss: 87.3070\n",
            "Epoch 73/200\n",
            "10/10 - 0s - loss: 130.4034 - val_loss: 82.5737\n",
            "Epoch 74/200\n",
            "10/10 - 0s - loss: 116.2967 - val_loss: 103.8212\n",
            "Epoch 75/200\n",
            "10/10 - 0s - loss: 109.8760 - val_loss: 83.3268\n",
            "Epoch 76/200\n",
            "10/10 - 0s - loss: 99.3527 - val_loss: 68.4097\n",
            "Epoch 77/200\n",
            "10/10 - 0s - loss: 90.6453 - val_loss: 64.9950\n",
            "Epoch 78/200\n",
            "10/10 - 0s - loss: 88.6881 - val_loss: 63.9631\n",
            "Epoch 79/200\n",
            "10/10 - 0s - loss: 83.2282 - val_loss: 67.0215\n",
            "Epoch 80/200\n",
            "10/10 - 0s - loss: 82.5128 - val_loss: 53.4738\n",
            "Epoch 81/200\n",
            "10/10 - 0s - loss: 74.1733 - val_loss: 52.1318\n",
            "Epoch 82/200\n",
            "10/10 - 0s - loss: 68.2132 - val_loss: 50.1145\n",
            "Epoch 83/200\n",
            "10/10 - 0s - loss: 68.4417 - val_loss: 46.4365\n",
            "Epoch 84/200\n",
            "10/10 - 0s - loss: 63.4471 - val_loss: 46.3111\n",
            "Epoch 85/200\n",
            "10/10 - 0s - loss: 65.1131 - val_loss: 66.4978\n",
            "Epoch 86/200\n",
            "10/10 - 0s - loss: 62.0836 - val_loss: 46.3200\n",
            "Epoch 87/200\n",
            "10/10 - 0s - loss: 55.4647 - val_loss: 38.0198\n",
            "Epoch 88/200\n",
            "10/10 - 0s - loss: 51.3792 - val_loss: 36.4752\n",
            "Epoch 89/200\n",
            "10/10 - 0s - loss: 48.8986 - val_loss: 35.2575\n",
            "Epoch 90/200\n",
            "10/10 - 0s - loss: 47.0819 - val_loss: 33.6033\n",
            "Epoch 91/200\n",
            "10/10 - 0s - loss: 46.0169 - val_loss: 33.8378\n",
            "Epoch 92/200\n",
            "10/10 - 0s - loss: 43.2220 - val_loss: 30.5593\n",
            "Epoch 93/200\n",
            "10/10 - 0s - loss: 42.8327 - val_loss: 32.2023\n",
            "Epoch 94/200\n",
            "10/10 - 0s - loss: 44.3745 - val_loss: 30.4876\n",
            "Epoch 95/200\n",
            "10/10 - 0s - loss: 41.6292 - val_loss: 29.1064\n",
            "Epoch 96/200\n",
            "10/10 - 0s - loss: 38.9231 - val_loss: 27.6936\n",
            "Epoch 97/200\n",
            "10/10 - 0s - loss: 37.3496 - val_loss: 30.7514\n",
            "Epoch 98/200\n",
            "10/10 - 0s - loss: 38.3164 - val_loss: 26.5363\n",
            "Epoch 99/200\n",
            "10/10 - 0s - loss: 36.2814 - val_loss: 28.6300\n",
            "Epoch 100/200\n",
            "10/10 - 0s - loss: 35.8856 - val_loss: 25.8000\n",
            "Epoch 101/200\n",
            "10/10 - 0s - loss: 34.8574 - val_loss: 25.5100\n",
            "Epoch 102/200\n",
            "10/10 - 0s - loss: 33.8676 - val_loss: 29.1713\n",
            "Epoch 103/200\n",
            "10/10 - 0s - loss: 34.1148 - val_loss: 26.1269\n",
            "Epoch 104/200\n",
            "10/10 - 0s - loss: 32.9665 - val_loss: 25.3834\n",
            "Epoch 105/200\n",
            "10/10 - 0s - loss: 32.7483 - val_loss: 24.5019\n",
            "Epoch 106/200\n",
            "10/10 - 0s - loss: 31.7681 - val_loss: 26.4344\n",
            "Epoch 107/200\n",
            "10/10 - 0s - loss: 33.9073 - val_loss: 27.9245\n",
            "Epoch 108/200\n",
            "10/10 - 0s - loss: 34.0580 - val_loss: 25.8685\n",
            "Epoch 109/200\n",
            "10/10 - 0s - loss: 31.3236 - val_loss: 24.0800\n",
            "Epoch 110/200\n",
            "10/10 - 0s - loss: 30.5570 - val_loss: 24.2386\n",
            "Epoch 111/200\n",
            "10/10 - 0s - loss: 30.0620 - val_loss: 23.7992\n",
            "Epoch 112/200\n",
            "10/10 - 0s - loss: 30.3128 - val_loss: 23.6661\n",
            "Epoch 113/200\n",
            "10/10 - 0s - loss: 29.9277 - val_loss: 24.1515\n",
            "Epoch 114/200\n",
            "10/10 - 0s - loss: 30.5794 - val_loss: 27.3875\n",
            "Epoch 115/200\n",
            "10/10 - 0s - loss: 29.5130 - val_loss: 28.2197\n",
            "Epoch 116/200\n",
            "10/10 - 0s - loss: 30.3232 - val_loss: 25.0284\n",
            "Epoch 117/200\n",
            "10/10 - 0s - loss: 28.9513 - val_loss: 30.2969\n",
            "Restoring model weights from the end of the best epoch.\n",
            "Epoch 00117: early stopping\n"
          ],
          "name": "stdout"
        },
        {
          "output_type": "execute_result",
          "data": {
            "text/plain": [
              "<keras.callbacks.History at 0x7f2c451c2f90>"
            ]
          },
          "metadata": {},
          "execution_count": 36
        }
      ]
    },
    {
      "cell_type": "code",
      "metadata": {
        "id": "watfQRMEGI27"
      },
      "source": [
        ""
      ],
      "execution_count": null,
      "outputs": []
    }
  ]
}