{
  "nbformat": 4,
  "nbformat_minor": 0,
  "metadata": {
    "kernelspec": {
      "name": "python3",
      "display_name": "Python 3.7.11 64-bit ('DeepLearning': conda)"
    },
    "language_info": {
      "codemirror_mode": {
        "name": "ipython",
        "version": 3
      },
      "file_extension": ".py",
      "mimetype": "text/x-python",
      "name": "python",
      "nbconvert_exporter": "python",
      "pygments_lexer": "ipython3",
      "version": "3.7.11"
    },
    "colab": {
      "name": "hello_world_with_flask.ipynb",
      "provenance": [],
      "collapsed_sections": []
    },
    "interpreter": {
      "hash": "2fc2f960cdb7e52bf163ff6aba8b6b4a40930dd7b7543dbbb3ef789c78b540d7"
    }
  },
  "cells": [
    {
      "cell_type": "code",
      "metadata": {
        "colab": {
          "base_uri": "https://localhost:8080/"
        },
        "id": "sju9B8LHwlNL",
        "outputId": "ede93a0d-adb0-4874-bed5-8efe76cb43bb"
      },
      "source": [
        "# !pip install flask-ngrok"
      ],
      "execution_count": 2,
      "outputs": [
        {
          "output_type": "stream",
          "text": [
            "Collecting flask-ngrok\n",
            "  Downloading flask_ngrok-0.0.25-py3-none-any.whl (3.1 kB)\n",
            "Requirement already satisfied: requests in /usr/local/lib/python3.7/dist-packages (from flask-ngrok) (2.23.0)\n",
            "Requirement already satisfied: Flask>=0.8 in /usr/local/lib/python3.7/dist-packages (from flask-ngrok) (1.1.4)\n",
            "Requirement already satisfied: Werkzeug<2.0,>=0.15 in /usr/local/lib/python3.7/dist-packages (from Flask>=0.8->flask-ngrok) (1.0.1)\n",
            "Requirement already satisfied: click<8.0,>=5.1 in /usr/local/lib/python3.7/dist-packages (from Flask>=0.8->flask-ngrok) (7.1.2)\n",
            "Requirement already satisfied: itsdangerous<2.0,>=0.24 in /usr/local/lib/python3.7/dist-packages (from Flask>=0.8->flask-ngrok) (1.1.0)\n",
            "Requirement already satisfied: Jinja2<3.0,>=2.10.1 in /usr/local/lib/python3.7/dist-packages (from Flask>=0.8->flask-ngrok) (2.11.3)\n",
            "Requirement already satisfied: MarkupSafe>=0.23 in /usr/local/lib/python3.7/dist-packages (from Jinja2<3.0,>=2.10.1->Flask>=0.8->flask-ngrok) (2.0.1)\n",
            "Requirement already satisfied: urllib3!=1.25.0,!=1.25.1,<1.26,>=1.21.1 in /usr/local/lib/python3.7/dist-packages (from requests->flask-ngrok) (1.24.3)\n",
            "Requirement already satisfied: idna<3,>=2.5 in /usr/local/lib/python3.7/dist-packages (from requests->flask-ngrok) (2.10)\n",
            "Requirement already satisfied: chardet<4,>=3.0.2 in /usr/local/lib/python3.7/dist-packages (from requests->flask-ngrok) (3.0.4)\n",
            "Requirement already satisfied: certifi>=2017.4.17 in /usr/local/lib/python3.7/dist-packages (from requests->flask-ngrok) (2021.5.30)\n",
            "Installing collected packages: flask-ngrok\n",
            "Successfully installed flask-ngrok-0.0.25\n"
          ],
          "name": "stdout"
        }
      ]
    },
    {
      "cell_type": "code",
      "metadata": {
        "id": "_BRjUxywwNrw"
      },
      "source": [
        "from werkzeug.wrappers import Request, Response\n",
        "from flask import Flask\n",
        "# from flask_ngrok import run_with_ngrok"
      ],
      "execution_count": 2,
      "outputs": []
    },
    {
      "cell_type": "code",
      "metadata": {
        "id": "izVcQ0UVwNr1"
      },
      "source": [
        "## iF local using this one ##\n",
        "app = Flask(__name__)\n",
        "\n",
        "\n",
        "@app.route(\"/\")\n",
        "def hello():\n",
        "    return \"Hello World\"\n",
        "\n",
        "if __name__ == \"__main__\":\n",
        "    # run using werkzeug when using local host\n",
        "    from werkzeug.serving import run_simple\n",
        "    run_simple('localhost', 8000, app)"
      ],
      "execution_count": 3,
      "outputs": [
        {
          "output_type": "stream",
          "name": "stderr",
          "text": [
            " * Running on http://localhost:8000/ (Press CTRL+C to quit)\n"
          ]
        }
      ]
    },
    {
      "cell_type": "code",
      "metadata": {
        "colab": {
          "base_uri": "https://localhost:8080/"
        },
        "id": "4X8x5RO8ye8e",
        "outputId": "9b8e6dbb-d15e-4451-caa2-5809b01055a7"
      },
      "source": [
        "# ## IF Using Google colab u should use this one\n",
        "# app = Flask(__name__)\n",
        "# run_with_ngrok(app)\n",
        "\n",
        "# @app.route(\"/\")\n",
        "# def hello():\n",
        "#     return \"Hello World\"\n",
        "\n",
        "# app.run()"
      ],
      "execution_count": 10,
      "outputs": [
        {
          "output_type": "stream",
          "text": [
            " * Serving Flask app \"__main__\" (lazy loading)\n",
            " * Environment: production\n",
            "\u001b[31m   WARNING: This is a development server. Do not use it in a production deployment.\u001b[0m\n",
            "\u001b[2m   Use a production WSGI server instead.\u001b[0m\n",
            " * Debug mode: off\n"
          ],
          "name": "stdout"
        },
        {
          "output_type": "stream",
          "text": [
            " * Running on http://127.0.0.1:5000/ (Press CTRL+C to quit)\n"
          ],
          "name": "stderr"
        },
        {
          "output_type": "stream",
          "text": [
            " * Running on http://1caa-35-231-174-25.ngrok.io\n",
            " * Traffic stats available on http://127.0.0.1:4040\n"
          ],
          "name": "stdout"
        },
        {
          "output_type": "stream",
          "text": [
            "127.0.0.1 - - [24/Aug/2021 10:54:05] \"\u001b[37mGET / HTTP/1.1\u001b[0m\" 200 -\n",
            "127.0.0.1 - - [24/Aug/2021 10:54:06] \"\u001b[33mGET /favicon.ico HTTP/1.1\u001b[0m\" 404 -\n"
          ],
          "name": "stderr"
        }
      ]
    },
    {
      "cell_type": "code",
      "metadata": {
        "colab": {
          "resources": {
            "http://localhost:8080/nbextensions/google.colab/files.js": {
              "data": "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",
              "ok": true,
              "headers": [
                [
                  "content-type",
                  "application/javascript"
                ]
              ],
              "status": 200,
              "status_text": ""
            }
          },
          "base_uri": "https://localhost:8080/",
          "height": 73
        },
        "id": "Y8E80ivWzoTs",
        "outputId": "a45e8998-fea1-49e7-a705-229d79425dc9"
      },
      "source": [
        "# from google.colab import files\n",
        "\n",
        "# uploaded = files.upload()"
      ],
      "execution_count": 11,
      "outputs": [
        {
          "output_type": "display_data",
          "data": {
            "text/html": [
              "\n",
              "     <input type=\"file\" id=\"files-4f58f024-c501-4ddb-9595-33cd46150494\" name=\"files[]\" multiple disabled\n",
              "        style=\"border:none\" />\n",
              "     <output id=\"result-4f58f024-c501-4ddb-9595-33cd46150494\">\n",
              "      Upload widget is only available when the cell has been executed in the\n",
              "      current browser session. Please rerun this cell to enable.\n",
              "      </output>\n",
              "      <script src=\"/nbextensions/google.colab/files.js\"></script> "
            ],
            "text/plain": [
              "<IPython.core.display.HTML object>"
            ]
          },
          "metadata": {}
        },
        {
          "output_type": "stream",
          "text": [
            "Saving auto-mpg.csv to auto-mpg.csv\n"
          ],
          "name": "stdout"
        }
      ]
    },
    {
      "cell_type": "code",
      "metadata": {
        "id": "dIk3ouvW0D8N"
      },
      "source": [
        "import tensorflow\n",
        "import keras\n",
        "\n",
        "from tensorflow.keras.models import Sequential\n",
        "from tensorflow.keras.layers import Dense, Activation\n",
        "from sklearn.model_selection import train_test_split\n",
        "from tensorflow.keras.callbacks import EarlyStopping\n",
        "import pandas as pd\n",
        "import io\n",
        "import os\n",
        "import requests\n",
        "import numpy as np\n",
        "from sklearn import metrics"
      ],
      "execution_count": 7,
      "outputs": []
    },
    {
      "source": [
        "## if running in a local\n",
        "df = pd.read_csv(r'D:\\online course\\learn_flask\\dummy-flask\\flaskdata\\auto-mpg.csv', na_values=['NA','?']) \n",
        "\n",
        "## If Running in google colab\n",
        "# df = pd.read_csv(r'auto-mpg.csv', na_values=['NA', '?'])\n",
        "# df.head()"
      ],
      "cell_type": "code",
      "metadata": {
        "colab": {
          "base_uri": "https://localhost:8080/",
          "height": 338
        },
        "id": "xOoUnH3KwNr4",
        "outputId": "55a68850-2066-4d2b-d6da-1633f6ff8d8e"
      },
      "execution_count": 9,
      "outputs": []
    },
    {
      "cell_type": "code",
      "metadata": {
        "colab": {
          "base_uri": "https://localhost:8080/"
        },
        "id": "apBLxyw4wNr5",
        "outputId": "658a9999-2b94-4fe2-b578-728987d5bbe9"
      },
      "source": [
        "df.isnull().sum()"
      ],
      "execution_count": 10,
      "outputs": [
        {
          "output_type": "execute_result",
          "data": {
            "text/plain": [
              "mpg             0\n",
              "cylinders       0\n",
              "displacement    0\n",
              "horsepower      6\n",
              "weight          0\n",
              "acceleration    0\n",
              "year            0\n",
              "origin          0\n",
              "name            0\n",
              "dtype: int64"
            ]
          },
          "metadata": {},
          "execution_count": 10
        }
      ]
    },
    {
      "cell_type": "code",
      "metadata": {
        "id": "o5sLyjop56t2"
      },
      "source": [
        "df['horsepower'] = df['horsepower'].fillna(df['horsepower'].median())"
      ],
      "execution_count": 11,
      "outputs": []
    },
    {
      "cell_type": "code",
      "metadata": {
        "colab": {
          "base_uri": "https://localhost:8080/"
        },
        "id": "J0LjUFV-6Enh",
        "outputId": "c2d11d32-3fad-4aeb-9516-0793d9ad91ae"
      },
      "source": [
        "df.isnull().sum()"
      ],
      "execution_count": 12,
      "outputs": [
        {
          "output_type": "execute_result",
          "data": {
            "text/plain": [
              "mpg             0\n",
              "cylinders       0\n",
              "displacement    0\n",
              "horsepower      0\n",
              "weight          0\n",
              "acceleration    0\n",
              "year            0\n",
              "origin          0\n",
              "name            0\n",
              "dtype: int64"
            ]
          },
          "metadata": {},
          "execution_count": 12
        }
      ]
    },
    {
      "cell_type": "code",
      "metadata": {
        "id": "jmuD2QX86KyC"
      },
      "source": [
        "#df_x = x\n",
        "#df_y = y\n",
        "x = df[['cylinders', 'displacement', 'horsepower', 'weight', 'acceleration', 'year', 'origin']].values\n",
        "y = df['mpg'].values"
      ],
      "execution_count": 13,
      "outputs": []
    },
    {
      "cell_type": "code",
      "metadata": {
        "id": "2EEQopCo69Eh"
      },
      "source": [
        "x_train, x_test, y_train, y_test = train_test_split(x, y, test_size=0.25, random_state=45)"
      ],
      "execution_count": 14,
      "outputs": []
    },
    {
      "cell_type": "code",
      "metadata": {
        "colab": {
          "base_uri": "https://localhost:8080/"
        },
        "id": "9r7aEM0G7HhC",
        "outputId": "f1bbbb0d-edfe-483b-f269-e4e569c32f37"
      },
      "source": [
        "  x_train.shape"
      ],
      "execution_count": 15,
      "outputs": [
        {
          "output_type": "execute_result",
          "data": {
            "text/plain": [
              "(298, 7)"
            ]
          },
          "metadata": {},
          "execution_count": 15
        }
      ]
    },
    {
      "cell_type": "code",
      "metadata": {
        "colab": {
          "base_uri": "https://localhost:8080/"
        },
        "id": "28voVALRBAta",
        "outputId": "85651ba6-1334-42be-853e-eec7f1fd2024"
      },
      "source": [
        "model = Sequential()\n",
        "model.add(Dense(25, input_dim=x.shape[1], activation='relu'))\n",
        "model.add(Dense(10, activation='relu'))\n",
        "model.add(Dense(1))\n",
        "model.compile(loss='mean_squared_error', optimizer='adam')\n",
        "\n",
        "monitor = EarlyStopping(monitor='val_loss', min_delta=1e-3, patience=5, verbose=1, mode='auto', restore_best_weights=True)\n",
        "model.fit(x_train, y_train, validation_data=(x_test, y_test), callbacks=[monitor], verbose=2, epochs=200)"
      ],
      "execution_count": 16,
      "outputs": [
        {
          "output_type": "stream",
          "name": "stdout",
          "text": [
            "Epoch 1/200\n",
            "10/10 - 1s - loss: 15510.1709 - val_loss: 3938.1909\n",
            "Epoch 2/200\n",
            "10/10 - 0s - loss: 1354.6932 - val_loss: 233.8941\n",
            "Epoch 3/200\n",
            "10/10 - 0s - loss: 470.2878 - val_loss: 584.9332\n",
            "Epoch 4/200\n",
            "10/10 - 0s - loss: 499.2314 - val_loss: 259.3277\n",
            "Epoch 5/200\n",
            "10/10 - 0s - loss: 248.8970 - val_loss: 187.3082\n",
            "Epoch 6/200\n",
            "10/10 - 0s - loss: 243.0319 - val_loss: 194.6426\n",
            "Epoch 7/200\n",
            "10/10 - 0s - loss: 234.7509 - val_loss: 179.2570\n",
            "Epoch 8/200\n",
            "10/10 - 0s - loss: 225.9095 - val_loss: 179.9674\n",
            "Epoch 9/200\n",
            "10/10 - 0s - loss: 223.8926 - val_loss: 175.4305\n",
            "Epoch 10/200\n",
            "10/10 - 0s - loss: 220.0878 - val_loss: 173.7973\n",
            "Epoch 11/200\n",
            "10/10 - 0s - loss: 217.3750 - val_loss: 171.1928\n",
            "Epoch 12/200\n",
            "10/10 - 0s - loss: 215.0127 - val_loss: 169.4276\n",
            "Epoch 13/200\n",
            "10/10 - 0s - loss: 212.2243 - val_loss: 167.2023\n",
            "Epoch 14/200\n",
            "10/10 - 0s - loss: 209.6789 - val_loss: 164.4314\n",
            "Epoch 15/200\n",
            "10/10 - 0s - loss: 207.2596 - val_loss: 162.0255\n",
            "Epoch 16/200\n",
            "10/10 - 0s - loss: 204.7887 - val_loss: 160.5836\n",
            "Epoch 17/200\n",
            "10/10 - 0s - loss: 201.1016 - val_loss: 157.4033\n",
            "Epoch 18/200\n",
            "10/10 - 0s - loss: 198.7428 - val_loss: 155.2447\n",
            "Epoch 19/200\n",
            "10/10 - 0s - loss: 196.2653 - val_loss: 154.0023\n",
            "Epoch 20/200\n",
            "10/10 - 0s - loss: 193.5619 - val_loss: 151.2744\n",
            "Epoch 21/200\n",
            "10/10 - 0s - loss: 192.4483 - val_loss: 148.1279\n",
            "Epoch 22/200\n",
            "10/10 - 0s - loss: 188.3799 - val_loss: 146.4718\n",
            "Epoch 23/200\n",
            "10/10 - 0s - loss: 184.9283 - val_loss: 143.1686\n",
            "Epoch 24/200\n",
            "10/10 - 0s - loss: 182.5868 - val_loss: 140.8122\n",
            "Epoch 25/200\n",
            "10/10 - 0s - loss: 178.6389 - val_loss: 140.8549\n",
            "Epoch 26/200\n",
            "10/10 - 0s - loss: 178.7068 - val_loss: 136.3806\n",
            "Epoch 27/200\n",
            "10/10 - 0s - loss: 173.8249 - val_loss: 134.9443\n",
            "Epoch 28/200\n",
            "10/10 - 0s - loss: 170.6378 - val_loss: 131.6043\n",
            "Epoch 29/200\n",
            "10/10 - 0s - loss: 168.2807 - val_loss: 129.3103\n",
            "Epoch 30/200\n",
            "10/10 - 0s - loss: 165.7216 - val_loss: 127.9466\n",
            "Epoch 31/200\n",
            "10/10 - 0s - loss: 163.1757 - val_loss: 125.1795\n",
            "Epoch 32/200\n",
            "10/10 - 0s - loss: 159.8615 - val_loss: 122.8112\n",
            "Epoch 33/200\n",
            "10/10 - 0s - loss: 158.0352 - val_loss: 120.6653\n",
            "Epoch 34/200\n",
            "10/10 - 0s - loss: 154.6440 - val_loss: 118.4659\n",
            "Epoch 35/200\n",
            "10/10 - 0s - loss: 152.5251 - val_loss: 116.3517\n",
            "Epoch 36/200\n",
            "10/10 - 0s - loss: 150.5495 - val_loss: 115.6794\n",
            "Epoch 37/200\n",
            "10/10 - 0s - loss: 147.4857 - val_loss: 112.1561\n",
            "Epoch 38/200\n",
            "10/10 - 0s - loss: 144.8731 - val_loss: 110.4690\n",
            "Epoch 39/200\n",
            "10/10 - 0s - loss: 142.2861 - val_loss: 108.8282\n",
            "Epoch 40/200\n",
            "10/10 - 0s - loss: 140.0997 - val_loss: 106.3826\n",
            "Epoch 41/200\n",
            "10/10 - 0s - loss: 137.7770 - val_loss: 104.4841\n",
            "Epoch 42/200\n",
            "10/10 - 0s - loss: 135.3608 - val_loss: 102.7810\n",
            "Epoch 43/200\n",
            "10/10 - 0s - loss: 133.1697 - val_loss: 101.4013\n",
            "Epoch 44/200\n",
            "10/10 - 0s - loss: 132.1286 - val_loss: 98.9503\n",
            "Epoch 45/200\n",
            "10/10 - 0s - loss: 129.8961 - val_loss: 97.5162\n",
            "Epoch 46/200\n",
            "10/10 - 0s - loss: 126.7010 - val_loss: 95.4410\n",
            "Epoch 47/200\n",
            "10/10 - 0s - loss: 124.7061 - val_loss: 93.8734\n",
            "Epoch 48/200\n",
            "10/10 - 0s - loss: 122.7068 - val_loss: 92.1017\n",
            "Epoch 49/200\n",
            "10/10 - 0s - loss: 120.4403 - val_loss: 90.9278\n",
            "Epoch 50/200\n",
            "10/10 - 0s - loss: 118.3698 - val_loss: 88.6543\n",
            "Epoch 51/200\n",
            "10/10 - 0s - loss: 117.3157 - val_loss: 87.1095\n",
            "Epoch 52/200\n",
            "10/10 - 0s - loss: 114.7022 - val_loss: 86.7128\n",
            "Epoch 53/200\n",
            "10/10 - 0s - loss: 113.1819 - val_loss: 83.9988\n",
            "Epoch 54/200\n",
            "10/10 - 0s - loss: 111.1346 - val_loss: 83.3002\n",
            "Epoch 55/200\n",
            "10/10 - 0s - loss: 108.6631 - val_loss: 81.1933\n",
            "Epoch 56/200\n",
            "10/10 - 0s - loss: 107.4595 - val_loss: 80.8915\n",
            "Epoch 57/200\n",
            "10/10 - 0s - loss: 105.5753 - val_loss: 78.4912\n",
            "Epoch 58/200\n",
            "10/10 - 0s - loss: 103.8218 - val_loss: 77.0147\n",
            "Epoch 59/200\n",
            "10/10 - 0s - loss: 101.9542 - val_loss: 76.4368\n",
            "Epoch 60/200\n",
            "10/10 - 0s - loss: 100.4597 - val_loss: 74.3911\n",
            "Epoch 61/200\n",
            "10/10 - 0s - loss: 98.5431 - val_loss: 74.4721\n",
            "Epoch 62/200\n",
            "10/10 - 0s - loss: 97.4144 - val_loss: 72.0295\n",
            "Epoch 63/200\n",
            "10/10 - 0s - loss: 95.3057 - val_loss: 70.6384\n",
            "Epoch 64/200\n",
            "10/10 - 0s - loss: 93.8250 - val_loss: 69.6099\n",
            "Epoch 65/200\n",
            "10/10 - 0s - loss: 92.3999 - val_loss: 69.2618\n",
            "Epoch 66/200\n",
            "10/10 - 0s - loss: 90.9617 - val_loss: 67.3035\n",
            "Epoch 67/200\n",
            "10/10 - 0s - loss: 89.5970 - val_loss: 66.7591\n",
            "Epoch 68/200\n",
            "10/10 - 0s - loss: 88.0483 - val_loss: 65.1384\n",
            "Epoch 69/200\n",
            "10/10 - 0s - loss: 87.2262 - val_loss: 64.4492\n",
            "Epoch 70/200\n",
            "10/10 - 0s - loss: 86.5956 - val_loss: 63.0889\n",
            "Epoch 71/200\n",
            "10/10 - 0s - loss: 83.7741 - val_loss: 62.7376\n",
            "Epoch 72/200\n",
            "10/10 - 0s - loss: 82.7465 - val_loss: 61.0554\n",
            "Epoch 73/200\n",
            "10/10 - 0s - loss: 81.2779 - val_loss: 60.8221\n",
            "Epoch 74/200\n",
            "10/10 - 0s - loss: 79.7936 - val_loss: 59.1531\n",
            "Epoch 75/200\n",
            "10/10 - 0s - loss: 79.1517 - val_loss: 58.2381\n",
            "Epoch 76/200\n",
            "10/10 - 0s - loss: 77.3315 - val_loss: 58.4178\n",
            "Epoch 77/200\n",
            "10/10 - 0s - loss: 76.4766 - val_loss: 56.6927\n",
            "Epoch 78/200\n",
            "10/10 - 0s - loss: 75.4133 - val_loss: 55.7593\n",
            "Epoch 79/200\n",
            "10/10 - 0s - loss: 74.8856 - val_loss: 55.2776\n",
            "Epoch 80/200\n",
            "10/10 - 0s - loss: 72.7711 - val_loss: 54.4901\n",
            "Epoch 81/200\n",
            "10/10 - 0s - loss: 72.0869 - val_loss: 54.1883\n",
            "Epoch 82/200\n",
            "10/10 - 0s - loss: 70.9363 - val_loss: 52.7272\n",
            "Epoch 83/200\n",
            "10/10 - 0s - loss: 70.1091 - val_loss: 52.2346\n",
            "Epoch 84/200\n",
            "10/10 - 0s - loss: 69.9498 - val_loss: 51.1971\n",
            "Epoch 85/200\n",
            "10/10 - 0s - loss: 67.8646 - val_loss: 50.5934\n",
            "Epoch 86/200\n",
            "10/10 - 0s - loss: 67.0155 - val_loss: 49.9971\n",
            "Epoch 87/200\n",
            "10/10 - 0s - loss: 66.0218 - val_loss: 49.1759\n",
            "Epoch 88/200\n",
            "10/10 - 0s - loss: 65.2526 - val_loss: 48.5150\n",
            "Epoch 89/200\n",
            "10/10 - 0s - loss: 63.9327 - val_loss: 47.9545\n",
            "Epoch 90/200\n",
            "10/10 - 0s - loss: 62.8379 - val_loss: 47.3691\n",
            "Epoch 91/200\n",
            "10/10 - 0s - loss: 62.3819 - val_loss: 46.8065\n",
            "Epoch 92/200\n",
            "10/10 - 0s - loss: 63.4074 - val_loss: 46.2265\n",
            "Epoch 93/200\n",
            "10/10 - 0s - loss: 60.4564 - val_loss: 45.6934\n",
            "Epoch 94/200\n",
            "10/10 - 0s - loss: 59.6608 - val_loss: 45.0595\n",
            "Epoch 95/200\n",
            "10/10 - 0s - loss: 58.3782 - val_loss: 44.6352\n",
            "Epoch 96/200\n",
            "10/10 - 0s - loss: 57.7992 - val_loss: 44.1738\n",
            "Epoch 97/200\n",
            "10/10 - 0s - loss: 57.4342 - val_loss: 43.5184\n",
            "Epoch 98/200\n",
            "10/10 - 0s - loss: 56.0749 - val_loss: 43.0249\n",
            "Epoch 99/200\n",
            "10/10 - 0s - loss: 55.4634 - val_loss: 43.0784\n",
            "Epoch 100/200\n",
            "10/10 - 0s - loss: 55.0395 - val_loss: 41.9227\n",
            "Epoch 101/200\n",
            "10/10 - 0s - loss: 54.0694 - val_loss: 41.6468\n",
            "Epoch 102/200\n",
            "10/10 - 0s - loss: 53.1206 - val_loss: 41.0846\n",
            "Epoch 103/200\n",
            "10/10 - 0s - loss: 52.5710 - val_loss: 40.9617\n",
            "Epoch 104/200\n",
            "10/10 - 0s - loss: 51.7719 - val_loss: 40.2768\n",
            "Epoch 105/200\n",
            "10/10 - 0s - loss: 51.1270 - val_loss: 39.8115\n",
            "Epoch 106/200\n",
            "10/10 - 0s - loss: 50.9354 - val_loss: 39.7647\n",
            "Epoch 107/200\n",
            "10/10 - 0s - loss: 50.0034 - val_loss: 39.4722\n",
            "Epoch 108/200\n",
            "10/10 - 0s - loss: 49.9629 - val_loss: 38.5237\n",
            "Epoch 109/200\n",
            "10/10 - 0s - loss: 48.8611 - val_loss: 38.8814\n",
            "Epoch 110/200\n",
            "10/10 - 0s - loss: 48.3088 - val_loss: 37.9999\n",
            "Epoch 111/200\n",
            "10/10 - 0s - loss: 47.5970 - val_loss: 37.6147\n",
            "Epoch 112/200\n",
            "10/10 - 0s - loss: 47.1720 - val_loss: 37.3775\n",
            "Epoch 113/200\n",
            "10/10 - 0s - loss: 46.9600 - val_loss: 38.0735\n",
            "Epoch 114/200\n",
            "10/10 - 0s - loss: 46.3866 - val_loss: 37.4937\n",
            "Epoch 115/200\n",
            "10/10 - 0s - loss: 47.4932 - val_loss: 37.8797\n",
            "Epoch 116/200\n",
            "10/10 - 0s - loss: 46.0036 - val_loss: 36.1641\n",
            "Epoch 117/200\n",
            "10/10 - 0s - loss: 44.4100 - val_loss: 35.1108\n",
            "Epoch 118/200\n",
            "10/10 - 0s - loss: 43.9592 - val_loss: 35.7358\n",
            "Epoch 119/200\n",
            "10/10 - 0s - loss: 43.8728 - val_loss: 35.3873\n",
            "Epoch 120/200\n",
            "10/10 - 0s - loss: 43.1301 - val_loss: 34.2213\n",
            "Epoch 121/200\n",
            "10/10 - 0s - loss: 42.7101 - val_loss: 35.8102\n",
            "Epoch 122/200\n",
            "10/10 - 0s - loss: 42.0838 - val_loss: 34.1579\n",
            "Epoch 123/200\n",
            "10/10 - 0s - loss: 41.7025 - val_loss: 33.3539\n",
            "Epoch 124/200\n",
            "10/10 - 0s - loss: 41.4187 - val_loss: 34.4819\n",
            "Epoch 125/200\n",
            "10/10 - 0s - loss: 40.6183 - val_loss: 33.7229\n",
            "Epoch 126/200\n",
            "10/10 - 0s - loss: 40.0785 - val_loss: 33.6358\n",
            "Epoch 127/200\n",
            "10/10 - 0s - loss: 39.6520 - val_loss: 32.6585\n",
            "Epoch 128/200\n",
            "10/10 - 0s - loss: 39.8016 - val_loss: 31.8101\n",
            "Epoch 129/200\n",
            "10/10 - 0s - loss: 39.6245 - val_loss: 34.0326\n",
            "Epoch 130/200\n",
            "10/10 - 0s - loss: 39.3439 - val_loss: 31.8930\n",
            "Epoch 131/200\n",
            "10/10 - 0s - loss: 38.6677 - val_loss: 31.0689\n",
            "Epoch 132/200\n",
            "10/10 - 0s - loss: 38.5050 - val_loss: 32.3753\n",
            "Epoch 133/200\n",
            "10/10 - 0s - loss: 37.8301 - val_loss: 31.7165\n",
            "Epoch 134/200\n",
            "10/10 - 0s - loss: 37.9660 - val_loss: 30.8753\n",
            "Epoch 135/200\n",
            "10/10 - 0s - loss: 37.9122 - val_loss: 33.1707\n",
            "Epoch 136/200\n",
            "10/10 - 0s - loss: 36.8832 - val_loss: 31.2852\n",
            "Epoch 137/200\n",
            "10/10 - 0s - loss: 37.3732 - val_loss: 29.9892\n",
            "Epoch 138/200\n",
            "10/10 - 0s - loss: 37.0858 - val_loss: 33.4300\n",
            "Epoch 139/200\n",
            "10/10 - 0s - loss: 36.4058 - val_loss: 31.6978\n",
            "Epoch 140/200\n",
            "10/10 - 0s - loss: 36.1003 - val_loss: 28.9352\n",
            "Epoch 141/200\n",
            "10/10 - 0s - loss: 35.0140 - val_loss: 29.2307\n",
            "Epoch 142/200\n",
            "10/10 - 0s - loss: 36.2602 - val_loss: 30.8925\n",
            "Epoch 143/200\n",
            "10/10 - 0s - loss: 34.9070 - val_loss: 28.5312\n",
            "Epoch 144/200\n",
            "10/10 - 0s - loss: 34.7928 - val_loss: 29.4645\n",
            "Epoch 145/200\n",
            "10/10 - 0s - loss: 33.6397 - val_loss: 28.0874\n",
            "Epoch 146/200\n",
            "10/10 - 0s - loss: 33.9560 - val_loss: 29.0637\n",
            "Epoch 147/200\n",
            "10/10 - 0s - loss: 33.5613 - val_loss: 28.3479\n",
            "Epoch 148/200\n",
            "10/10 - 0s - loss: 33.7104 - val_loss: 30.0569\n",
            "Epoch 149/200\n",
            "10/10 - 0s - loss: 34.8722 - val_loss: 31.8103\n",
            "Epoch 150/200\n",
            "10/10 - 0s - loss: 33.1118 - val_loss: 26.9848\n",
            "Epoch 151/200\n",
            "10/10 - 0s - loss: 32.3190 - val_loss: 26.6299\n",
            "Epoch 152/200\n",
            "10/10 - 0s - loss: 32.4587 - val_loss: 27.9102\n",
            "Epoch 153/200\n",
            "10/10 - 0s - loss: 31.7743 - val_loss: 26.7723\n",
            "Epoch 154/200\n",
            "10/10 - 0s - loss: 31.5825 - val_loss: 27.2969\n",
            "Epoch 155/200\n",
            "10/10 - 0s - loss: 31.2897 - val_loss: 26.4549\n",
            "Epoch 156/200\n",
            "10/10 - 0s - loss: 31.1065 - val_loss: 26.5404\n",
            "Epoch 157/200\n",
            "10/10 - 0s - loss: 30.8036 - val_loss: 25.8848\n",
            "Epoch 158/200\n",
            "10/10 - 0s - loss: 30.3703 - val_loss: 26.4178\n",
            "Epoch 159/200\n",
            "10/10 - 0s - loss: 30.5780 - val_loss: 25.7330\n",
            "Epoch 160/200\n",
            "10/10 - 0s - loss: 30.4155 - val_loss: 26.6421\n",
            "Epoch 161/200\n",
            "10/10 - 0s - loss: 30.1078 - val_loss: 25.9839\n",
            "Epoch 162/200\n",
            "10/10 - 0s - loss: 29.5992 - val_loss: 25.4632\n",
            "Epoch 163/200\n",
            "10/10 - 0s - loss: 29.3557 - val_loss: 24.9234\n",
            "Epoch 164/200\n",
            "10/10 - 0s - loss: 29.1018 - val_loss: 25.3011\n",
            "Epoch 165/200\n",
            "10/10 - 0s - loss: 28.9978 - val_loss: 25.6665\n",
            "Epoch 166/200\n",
            "10/10 - 0s - loss: 30.3181 - val_loss: 25.0078\n",
            "Epoch 167/200\n",
            "10/10 - 0s - loss: 28.5787 - val_loss: 24.2448\n",
            "Epoch 168/200\n",
            "10/10 - 0s - loss: 28.3137 - val_loss: 24.7401\n",
            "Epoch 169/200\n",
            "10/10 - 0s - loss: 28.4347 - val_loss: 24.9485\n",
            "Epoch 170/200\n",
            "10/10 - 0s - loss: 29.0852 - val_loss: 25.4722\n",
            "Epoch 171/200\n",
            "10/10 - 0s - loss: 28.5688 - val_loss: 23.1677\n",
            "Epoch 172/200\n",
            "10/10 - 0s - loss: 27.4537 - val_loss: 24.6955\n",
            "Epoch 173/200\n",
            "10/10 - 0s - loss: 28.2452 - val_loss: 24.9048\n",
            "Epoch 174/200\n",
            "10/10 - 0s - loss: 27.5759 - val_loss: 22.5159\n",
            "Epoch 175/200\n",
            "10/10 - 0s - loss: 26.8615 - val_loss: 23.7474\n",
            "Epoch 176/200\n",
            "10/10 - 0s - loss: 27.3314 - val_loss: 23.2010\n",
            "Epoch 177/200\n",
            "10/10 - 0s - loss: 27.0761 - val_loss: 22.7635\n",
            "Epoch 178/200\n",
            "10/10 - 0s - loss: 26.6581 - val_loss: 22.1927\n",
            "Epoch 179/200\n",
            "10/10 - 0s - loss: 26.3372 - val_loss: 23.3954\n",
            "Epoch 180/200\n",
            "10/10 - 0s - loss: 26.3257 - val_loss: 22.3953\n",
            "Epoch 181/200\n",
            "10/10 - 0s - loss: 25.8866 - val_loss: 21.6158\n",
            "Epoch 182/200\n",
            "10/10 - 0s - loss: 25.7288 - val_loss: 22.6499\n",
            "Epoch 183/200\n",
            "10/10 - 0s - loss: 25.4410 - val_loss: 22.0697\n",
            "Epoch 184/200\n",
            "10/10 - 0s - loss: 25.9788 - val_loss: 21.8349\n",
            "Epoch 185/200\n",
            "10/10 - 0s - loss: 26.3159 - val_loss: 22.5493\n",
            "Epoch 186/200\n",
            "10/10 - 0s - loss: 25.6800 - val_loss: 20.8695\n",
            "Epoch 187/200\n",
            "10/10 - 0s - loss: 24.9646 - val_loss: 21.5680\n",
            "Epoch 188/200\n",
            "10/10 - 0s - loss: 24.6571 - val_loss: 21.0200\n",
            "Epoch 189/200\n",
            "10/10 - 0s - loss: 24.6695 - val_loss: 20.6894\n",
            "Epoch 190/200\n",
            "10/10 - 0s - loss: 24.4898 - val_loss: 23.2497\n",
            "Epoch 191/200\n",
            "10/10 - 0s - loss: 25.2710 - val_loss: 22.2316\n",
            "Epoch 192/200\n",
            "10/10 - 0s - loss: 24.7862 - val_loss: 20.7720\n",
            "Epoch 193/200\n",
            "10/10 - 0s - loss: 24.7733 - val_loss: 23.2790\n",
            "Epoch 194/200\n",
            "10/10 - 0s - loss: 24.5797 - val_loss: 20.4616\n",
            "Epoch 195/200\n",
            "10/10 - 0s - loss: 24.4006 - val_loss: 21.1268\n",
            "Epoch 196/200\n",
            "10/10 - 0s - loss: 23.9105 - val_loss: 20.4365\n",
            "Epoch 197/200\n",
            "10/10 - 0s - loss: 23.5543 - val_loss: 20.5034\n",
            "Epoch 198/200\n",
            "10/10 - 0s - loss: 24.0986 - val_loss: 19.3479\n",
            "Epoch 199/200\n",
            "10/10 - 0s - loss: 23.2140 - val_loss: 19.1913\n",
            "Epoch 200/200\n",
            "10/10 - 0s - loss: 23.6384 - val_loss: 20.4662\n"
          ]
        },
        {
          "output_type": "execute_result",
          "data": {
            "text/plain": [
              "<tensorflow.python.keras.callbacks.History at 0x1ee6a5f80c8>"
            ]
          },
          "metadata": {},
          "execution_count": 16
        }
      ]
    },
    {
      "cell_type": "code",
      "metadata": {
        "id": "watfQRMEGI27"
      },
      "source": [
        "prediction = model.predict(x_test)\n",
        "score = np.sqrt(metrics.mean_squared_error(prediction, y_test))\n",
        "print(f'After the trainin the score is: {score}')"
      ],
      "execution_count": 17,
      "outputs": [
        {
          "output_type": "stream",
          "name": "stdout",
          "text": [
            "After the trainin the score is: 4.523959216734659\n"
          ]
        }
      ]
    },
    {
      "cell_type": "code",
      "execution_count": 18,
      "metadata": {},
      "outputs": [],
      "source": [
        "os.chdir(r'D:\\online course\\learn_flask\\dummy-flask\\flaskdata')"
      ]
    },
    {
      "cell_type": "code",
      "execution_count": 19,
      "metadata": {},
      "outputs": [
        {
          "output_type": "execute_result",
          "data": {
            "text/plain": [
              "'D:\\\\online course\\\\learn_flask\\\\dummy-flask\\\\flaskdata'"
            ]
          },
          "metadata": {},
          "execution_count": 19
        }
      ],
      "source": [
        "os.getcwd()"
      ]
    },
    {
      "cell_type": "code",
      "execution_count": 20,
      "metadata": {},
      "outputs": [],
      "source": [
        "model.save(os.path.join(os.getcwd(), \"mpg_model.h5\"))"
      ]
    }
  ]
}